{
 "cells": [
  {
   "cell_type": "markdown",
   "id": "bbf5cbf4-f0d1-434c-96e6-e265655fd44a",
   "metadata": {
    "execution": {
     "iopub.execute_input": "2023-10-14T19:08:57.818774Z",
     "iopub.status.busy": "2023-10-14T19:08:57.818503Z",
     "iopub.status.idle": "2023-10-14T19:08:57.822444Z",
     "shell.execute_reply": "2023-10-14T19:08:57.821665Z",
     "shell.execute_reply.started": "2023-10-14T19:08:57.818755Z"
    },
    "tags": []
   },
   "source": [
    "# DEEP DIVE (PART 4) - OOP"
   ]
  },
  {
   "cell_type": "markdown",
   "id": "baccd0c8-0fa7-4fb0-ae8b-8bb22d0c82e4",
   "metadata": {
    "execution": {
     "iopub.execute_input": "2023-10-14T19:09:16.469486Z",
     "iopub.status.busy": "2023-10-14T19:09:16.468990Z",
     "iopub.status.idle": "2023-10-14T19:09:16.478026Z",
     "shell.execute_reply": "2023-10-14T19:09:16.475773Z",
     "shell.execute_reply.started": "2023-10-14T19:09:16.469416Z"
    },
    "tags": []
   },
   "source": [
    "## Course Topics\n",
    "\n",
    "> Focused on Object Oriented Programming (OOP) concepts in Python"
   ]
  },
  {
   "cell_type": "markdown",
   "id": "2b38527b-4ab1-4995-99d3-2bc07b0c9181",
   "metadata": {
    "tags": []
   },
   "source": [
    "### [Classes (types) and Objects]()\n",
    "### [Functions, Methods and Properties]()\n",
    "### [Polymorphism and special dunder methods]()\n",
    "### [Single inheritance]()\n",
    "### [Descriptors]()\n",
    "### [Enumerations]()\n",
    "### [Exceptions]()\n",
    "### []()"
   ]
  },
  {
   "cell_type": "markdown",
   "id": "5b85ac16-8e50-4345-9e43-634cadefaede",
   "metadata": {},
   "source": [
    "## Prerequisites"
   ]
  },
  {
   "cell_type": "markdown",
   "id": "e5d901ae-0027-41df-b63d-8aa5a73ae723",
   "metadata": {},
   "source": [
    "- Assumes you are **not** a beginner programmer\n",
    "    - Solid understanding of basic Computer Science concepts\n",
    "    - Must have **practical experience** programming in Python already\n",
    "    - **Real projects**, not just a bootcamp course and some isolated exercises\n",
    "- This is not a cookbook course!\n",
    "    - Does not explain how to solve specific problems\n",
    "    - Does explain Python fundamentals\n",
    "        - How various concepts work and can be used\n",
    "    "
   ]
  },
  {
   "cell_type": "markdown",
   "id": "e179a230-43dc-43f0-b5f5-b0d2a72bde4e",
   "metadata": {},
   "source": []
  }
 ],
 "metadata": {
  "kernelspec": {
   "display_name": "Python 3 (ipykernel)",
   "language": "python",
   "name": "python3"
  },
  "language_info": {
   "codemirror_mode": {
    "name": "ipython",
    "version": 3
   },
   "file_extension": ".py",
   "mimetype": "text/x-python",
   "name": "python",
   "nbconvert_exporter": "python",
   "pygments_lexer": "ipython3",
   "version": "3.11.4"
  },
  "widgets": {
   "application/vnd.jupyter.widget-state+json": {
    "state": {},
    "version_major": 2,
    "version_minor": 0
   }
  }
 },
 "nbformat": 4,
 "nbformat_minor": 5
}
