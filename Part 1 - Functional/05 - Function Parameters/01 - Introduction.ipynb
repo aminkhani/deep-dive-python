{
 "cells": [
  {
   "cell_type": "markdown",
   "id": "c400fe25",
   "metadata": {},
   "source": [
    "<img src=\"../img/function-argument.png\" width=\"600px\" height=\"1px\">"
   ]
  },
  {
   "cell_type": "markdown",
   "id": "4779bf0a",
   "metadata": {},
   "source": [
    "# What We Learn?\n",
    "\n",
    "- ### [Arguments vs Parameters]()\n",
    "- ### [Positional vs Keyword-Only Arguments]()\n",
    "- ### [Optional Arguments via Defaults]()\n",
    "- ### [Unpacking Iterables and Function Arguments]()\n",
    "- ### [Extended Unpacking]()\n",
    "- ### [Variable Number of Positional and Keyword-Only Arguments]()"
   ]
  }
 ],
 "metadata": {
  "kernelspec": {
   "display_name": "Python 3 (ipykernel)",
   "language": "python",
   "name": "python3"
  },
  "language_info": {
   "codemirror_mode": {
    "name": "ipython",
    "version": 3
   },
   "file_extension": ".py",
   "mimetype": "text/x-python",
   "name": "python",
   "nbconvert_exporter": "python",
   "pygments_lexer": "ipython3",
   "version": "3.11.4"
  }
 },
 "nbformat": 4,
 "nbformat_minor": 5
}
