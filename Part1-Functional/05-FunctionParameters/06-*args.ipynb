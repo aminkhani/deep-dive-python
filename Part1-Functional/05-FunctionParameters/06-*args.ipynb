{
 "cells": [
  {
   "cell_type": "markdown",
   "id": "60681616",
   "metadata": {},
   "source": [
    "# *args"
   ]
  },
  {
   "cell_type": "markdown",
   "id": "12e0ac78",
   "metadata": {},
   "source": [
    "Recall"
   ]
  },
  {
   "cell_type": "code",
   "execution_count": 1,
   "id": "7571550a",
   "metadata": {},
   "outputs": [
    {
     "name": "stdout",
     "output_type": "stream",
     "text": [
      "a=10, b=20, c=['a', 'b']\n"
     ]
    }
   ],
   "source": [
    "a, b, *c = 10, 20, \"a\", \"b\"\n",
    "print(f\"{a=}, {b=}, {c=}\")"
   ]
  },
  {
   "cell_type": "markdown",
   "id": "ed0aef37",
   "metadata": {},
   "source": [
    "Something similar happens when **positional** arguments are passed to a function:"
   ]
  },
  {
   "cell_type": "code",
   "execution_count": 2,
   "id": "11154d0b",
   "metadata": {},
   "outputs": [
    {
     "name": "stdout",
     "output_type": "stream",
     "text": [
      "a=10, b=20, c=('a', 'b')\n"
     ]
    }
   ],
   "source": [
    "def my_func(a, b, *c):\n",
    "    print(f\"{a=}, {b=}, {c=}\")\n",
    "    \n",
    "my_func(10, 20, \"a\", \"b\")"
   ]
  },
  {
   "cell_type": "markdown",
   "id": "eb9f5545",
   "metadata": {},
   "source": [
    "The **`*`** parameter name is arbitary - you can make it whatever you want.\n",
    "\n",
    "It is **customary** (but not required) to name it **`*args`** (common convention):\n",
    "\n",
    "```python\n",
    "def my_func(a, b, *args):\n",
    "    # code\n",
    "```"
   ]
  },
  {
   "cell_type": "markdown",
   "id": "4286f1d2",
   "metadata": {},
   "source": [
    "### **`*args`** exhausts positional argument\n",
    "\n",
    "You **cannot** add more positional arguments **after** **`*args`**."
   ]
  },
  {
   "cell_type": "code",
   "execution_count": 6,
   "id": "d7703865",
   "metadata": {},
   "outputs": [
    {
     "ename": "TypeError",
     "evalue": "my_func() missing 1 required keyword-only argument: 'd'",
     "output_type": "error",
     "traceback": [
      "\u001b[0;31m---------------------------------------------------------------------------\u001b[0m",
      "\u001b[0;31mTypeError\u001b[0m                                 Traceback (most recent call last)",
      "Cell \u001b[0;32mIn[6], line 5\u001b[0m\n\u001b[1;32m      1\u001b[0m \u001b[38;5;28;01mdef\u001b[39;00m \u001b[38;5;21mmy_func\u001b[39m(a, b, \u001b[38;5;241m*\u001b[39margs, d): \u001b[38;5;66;03m# This is actually OK - covered in next lecture\u001b[39;00m\n\u001b[1;32m      2\u001b[0m     \u001b[38;5;28;01mpass\u001b[39;00m\n\u001b[0;32m----> 5\u001b[0m \u001b[43mmy_func\u001b[49m\u001b[43m(\u001b[49m\u001b[38;5;241;43m10\u001b[39;49m\u001b[43m,\u001b[49m\u001b[43m \u001b[49m\u001b[38;5;241;43m20\u001b[39;49m\u001b[43m,\u001b[49m\u001b[43m \u001b[49m\u001b[38;5;124;43m\"\u001b[39;49m\u001b[38;5;124;43ma\u001b[39;49m\u001b[38;5;124;43m\"\u001b[39;49m\u001b[43m,\u001b[49m\u001b[43m \u001b[49m\u001b[38;5;124;43m\"\u001b[39;49m\u001b[38;5;124;43mb\u001b[39;49m\u001b[38;5;124;43m\"\u001b[39;49m\u001b[43m,\u001b[49m\u001b[43m \u001b[49m\u001b[38;5;241;43m30\u001b[39;49m\u001b[43m)\u001b[49m \u001b[38;5;66;03m# This will not work!\u001b[39;00m\n",
      "\u001b[0;31mTypeError\u001b[0m: my_func() missing 1 required keyword-only argument: 'd'"
     ]
    }
   ],
   "source": [
    "def my_func(a, b, *args, d): # This is actually OK - covered in Keyword Argument (down)\n",
    "    pass\n",
    "\n",
    "\n",
    "my_func(10, 20, \"a\", \"b\", 30) # This will not work!"
   ]
  },
  {
   "cell_type": "markdown",
   "id": "8a525249",
   "metadata": {},
   "source": [
    "## Unpacking arguments"
   ]
  },
  {
   "cell_type": "code",
   "execution_count": 7,
   "id": "b890134f",
   "metadata": {},
   "outputs": [],
   "source": [
    "def my_func(a, b, c):\n",
    "    print(f\"{a=}, {b=}, {c=}\")"
   ]
  },
  {
   "cell_type": "code",
   "execution_count": 11,
   "id": "e419f854",
   "metadata": {},
   "outputs": [],
   "source": [
    "l = [10, 20, 30]"
   ]
  },
  {
   "cell_type": "markdown",
   "id": "5212c25b",
   "metadata": {},
   "source": [
    "This will **not** work:"
   ]
  },
  {
   "cell_type": "code",
   "execution_count": 12,
   "id": "ed215ee4",
   "metadata": {},
   "outputs": [
    {
     "ename": "TypeError",
     "evalue": "my_func() missing 2 required positional arguments: 'b' and 'c'",
     "output_type": "error",
     "traceback": [
      "\u001b[0;31m---------------------------------------------------------------------------\u001b[0m",
      "\u001b[0;31mTypeError\u001b[0m                                 Traceback (most recent call last)",
      "Cell \u001b[0;32mIn[12], line 1\u001b[0m\n\u001b[0;32m----> 1\u001b[0m \u001b[43mmy_func\u001b[49m\u001b[43m(\u001b[49m\u001b[43ml\u001b[49m\u001b[43m)\u001b[49m\n",
      "\u001b[0;31mTypeError\u001b[0m: my_func() missing 2 required positional arguments: 'b' and 'c'"
     ]
    }
   ],
   "source": [
    "my_func(l)"
   ]
  },
  {
   "cell_type": "markdown",
   "id": "8582f52c",
   "metadata": {},
   "source": [
    "But we can unpack the list **first** and **then** pass it to the function:"
   ]
  },
  {
   "cell_type": "code",
   "execution_count": 14,
   "id": "41d339ff",
   "metadata": {},
   "outputs": [
    {
     "name": "stdout",
     "output_type": "stream",
     "text": [
      "a=10, b=20, c=30\n"
     ]
    }
   ],
   "source": [
    "my_func(*l) # unpacking list"
   ]
  },
  {
   "cell_type": "markdown",
   "id": "b0c2f126",
   "metadata": {},
   "source": [
    "#### Practice:"
   ]
  },
  {
   "cell_type": "code",
   "execution_count": 44,
   "id": "46d9a9f1",
   "metadata": {},
   "outputs": [],
   "source": [
    "def avg(*args):\n",
    "    try:\n",
    "        return sum(args) / len(args)\n",
    "    except ZeroDivisionError:\n",
    "        return ZeroDivisionError(\"cannot divide\")"
   ]
  },
  {
   "cell_type": "code",
   "execution_count": 45,
   "id": "11e05ab7",
   "metadata": {},
   "outputs": [
    {
     "data": {
      "text/plain": [
       "4.0"
      ]
     },
     "execution_count": 45,
     "metadata": {},
     "output_type": "execute_result"
    }
   ],
   "source": [
    "avg(2, 3, 7)"
   ]
  },
  {
   "cell_type": "code",
   "execution_count": 46,
   "id": "e4fb6dfc",
   "metadata": {},
   "outputs": [
    {
     "data": {
      "text/plain": [
       "1.0"
      ]
     },
     "execution_count": 46,
     "metadata": {},
     "output_type": "execute_result"
    }
   ],
   "source": [
    "avg(0, 0, 3)"
   ]
  },
  {
   "cell_type": "code",
   "execution_count": 47,
   "id": "9244b13e",
   "metadata": {},
   "outputs": [
    {
     "data": {
      "text/plain": [
       "ZeroDivisionError('cannot divide')"
      ]
     },
     "execution_count": 47,
     "metadata": {},
     "output_type": "execute_result"
    }
   ],
   "source": [
    "avg()"
   ]
  },
  {
   "cell_type": "code",
   "execution_count": 49,
   "id": "9d2f1e2a",
   "metadata": {},
   "outputs": [
    {
     "data": {
      "text/plain": [
       "0.0"
      ]
     },
     "execution_count": 49,
     "metadata": {},
     "output_type": "execute_result"
    }
   ],
   "source": [
    "avg(0)"
   ]
  },
  {
   "cell_type": "markdown",
   "id": "c70277f9",
   "metadata": {},
   "source": [
    "# Keyword Arguments"
   ]
  },
  {
   "cell_type": "markdown",
   "id": "f4f82626",
   "metadata": {},
   "source": [
    "Recall that positional arguments can, optionally be passed as named (keyword) argument."
   ]
  },
  {
   "cell_type": "code",
   "execution_count": 51,
   "id": "df787889",
   "metadata": {},
   "outputs": [],
   "source": [
    "def my_func(a, b, c):\n",
    "    print(f\"{a=}, {b=}, {c=}\")"
   ]
  },
  {
   "cell_type": "code",
   "execution_count": 52,
   "id": "626c964c",
   "metadata": {},
   "outputs": [
    {
     "name": "stdout",
     "output_type": "stream",
     "text": [
      "a=1, b=2, c=3\n"
     ]
    }
   ],
   "source": [
    "my_func(1, 2, 3) # positional"
   ]
  },
  {
   "cell_type": "code",
   "execution_count": 55,
   "id": "15505d73",
   "metadata": {},
   "outputs": [
    {
     "name": "stdout",
     "output_type": "stream",
     "text": [
      "a=1, b=2, c=3\n"
     ]
    }
   ],
   "source": [
    "my_func(a=1, c=3, b=2) # keyword or named"
   ]
  },
  {
   "cell_type": "markdown",
   "id": "9154acb5",
   "metadata": {},
   "source": [
    "Using named arguments in this case is entirely **up to the caller**."
   ]
  },
  {
   "cell_type": "markdown",
   "id": "54b90c97",
   "metadata": {},
   "source": [
    "## Mondatory Keyword Arguments"
   ]
  },
  {
   "cell_type": "markdown",
   "id": "7a31da9c",
   "metadata": {},
   "source": [
    "We can make **keyword** arguments **mandatory**.\n",
    "\n",
    "To do this, we create parameters after the **positional** parameters have been **exhausted**."
   ]
  },
  {
   "cell_type": "code",
   "execution_count": 56,
   "id": "b124c231",
   "metadata": {},
   "outputs": [],
   "source": [
    "def my_func(a, b, *args, d):\n",
    "    print(f\"{a=}, {b=}, {args=}, {d=}\")"
   ]
  },
  {
   "cell_type": "markdown",
   "id": "9c8ae4ca",
   "metadata": {},
   "source": [
    "In this case, **`*args`** effectively **exhausts** all positional arguments.\n",
    "\n",
    "And **`d`** **must** be passed as **keyword** (named) argument. "
   ]
  },
  {
   "cell_type": "code",
   "execution_count": 57,
   "id": "28e03437",
   "metadata": {},
   "outputs": [
    {
     "name": "stdout",
     "output_type": "stream",
     "text": [
      "a=1, b=2, args=('a', 'b'), d=100\n"
     ]
    }
   ],
   "source": [
    "my_func(1, 2, \"a\", \"b\", d=100)"
   ]
  },
  {
   "cell_type": "code",
   "execution_count": 58,
   "id": "83eaaf74",
   "metadata": {},
   "outputs": [
    {
     "name": "stdout",
     "output_type": "stream",
     "text": [
      "a=10, b=20, args=(), d=30\n"
     ]
    }
   ],
   "source": [
    "my_func(10, 20, d=30)"
   ]
  },
  {
   "cell_type": "code",
   "execution_count": 59,
   "id": "e2c1da8c",
   "metadata": {},
   "outputs": [
    {
     "ename": "TypeError",
     "evalue": "my_func() missing 1 required keyword-only argument: 'd'",
     "output_type": "error",
     "traceback": [
      "\u001b[0;31m---------------------------------------------------------------------------\u001b[0m",
      "\u001b[0;31mTypeError\u001b[0m                                 Traceback (most recent call last)",
      "Cell \u001b[0;32mIn[59], line 1\u001b[0m\n\u001b[0;32m----> 1\u001b[0m \u001b[43mmy_func\u001b[49m\u001b[43m(\u001b[49m\u001b[38;5;241;43m1\u001b[39;49m\u001b[43m,\u001b[49m\u001b[43m \u001b[49m\u001b[38;5;241;43m2\u001b[39;49m\u001b[43m)\u001b[49m\n",
      "\u001b[0;31mTypeError\u001b[0m: my_func() missing 1 required keyword-only argument: 'd'"
     ]
    }
   ],
   "source": [
    "my_func(1, 2)"
   ]
  },
  {
   "cell_type": "markdown",
   "id": "619acb3f",
   "metadata": {},
   "source": [
    "We can even omit **any mandatory** positional arguments:"
   ]
  },
  {
   "cell_type": "code",
   "execution_count": 60,
   "id": "07d63de3",
   "metadata": {},
   "outputs": [],
   "source": [
    "def my_func(*args, d):\n",
    "    print(f\"{args=}, {d=}\")"
   ]
  },
  {
   "cell_type": "code",
   "execution_count": 61,
   "id": "e2a0c2f6",
   "metadata": {},
   "outputs": [
    {
     "name": "stdout",
     "output_type": "stream",
     "text": [
      "args=(1, 2, 3), d=100\n"
     ]
    }
   ],
   "source": [
    "my_func(1, 2, 3, d=100)"
   ]
  },
  {
   "cell_type": "code",
   "execution_count": 62,
   "id": "c77a7772",
   "metadata": {},
   "outputs": [
    {
     "name": "stdout",
     "output_type": "stream",
     "text": [
      "args=(), d=100\n"
     ]
    }
   ],
   "source": [
    "my_func(d=100)"
   ]
  },
  {
   "cell_type": "markdown",
   "id": "760fc1c9",
   "metadata": {},
   "source": [
    "> In fact we can force **no positional arguments** at all:"
   ]
  },
  {
   "cell_type": "code",
   "execution_count": 67,
   "id": "3d8b3665",
   "metadata": {},
   "outputs": [],
   "source": [
    "def my_func(*, d):\n",
    "    pass"
   ]
  },
  {
   "cell_type": "markdown",
   "id": "aa7f2ed8",
   "metadata": {},
   "source": [
    "**`*`** indicates the \"end\" of positional arguments."
   ]
  },
  {
   "cell_type": "code",
   "execution_count": 68,
   "id": "f9625ad1",
   "metadata": {},
   "outputs": [
    {
     "ename": "TypeError",
     "evalue": "my_func() takes 0 positional arguments but 3 positional arguments (and 1 keyword-only argument) were given",
     "output_type": "error",
     "traceback": [
      "\u001b[0;31m---------------------------------------------------------------------------\u001b[0m",
      "\u001b[0;31mTypeError\u001b[0m                                 Traceback (most recent call last)",
      "Cell \u001b[0;32mIn[68], line 1\u001b[0m\n\u001b[0;32m----> 1\u001b[0m \u001b[43mmy_func\u001b[49m\u001b[43m(\u001b[49m\u001b[38;5;241;43m1\u001b[39;49m\u001b[43m,\u001b[49m\u001b[43m \u001b[49m\u001b[38;5;241;43m2\u001b[39;49m\u001b[43m,\u001b[49m\u001b[43m \u001b[49m\u001b[38;5;241;43m3\u001b[39;49m\u001b[43m,\u001b[49m\u001b[43m \u001b[49m\u001b[43md\u001b[49m\u001b[38;5;241;43m=\u001b[39;49m\u001b[38;5;241;43m100\u001b[39;49m\u001b[43m)\u001b[49m\n",
      "\u001b[0;31mTypeError\u001b[0m: my_func() takes 0 positional arguments but 3 positional arguments (and 1 keyword-only argument) were given"
     ]
    }
   ],
   "source": [
    "my_func(1, 2, 3, d=100)"
   ]
  },
  {
   "cell_type": "code",
   "execution_count": 69,
   "id": "d93b0d8d",
   "metadata": {},
   "outputs": [],
   "source": [
    "my_func(d=100)"
   ]
  },
  {
   "cell_type": "markdown",
   "id": "b3498fe9",
   "metadata": {},
   "source": [
    "### Putting it together"
   ]
  },
  {
   "cell_type": "markdown",
   "id": "9608831b",
   "metadata": {},
   "source": [
    "```python\n",
    "def my_func(a, b=1, *args, d, e=True):\n",
    "    # code\n",
    "    \n",
    "def my_func(a, b=1, *, d, e=True):\n",
    "    # code\n",
    "```\n",
    "\n",
    "**`a`**: mandatory positional argument (may be specified using a named argument)\n",
    "\n",
    "**`b`**: optional positional argument (may be specified positionally, as a named argument, or not at all), defaults to 1\n",
    "\n",
    "**`*args`**: catch-all for any (optional) additional possitional arguments\n",
    "\n",
    "**`*`**: no additional position arguments allowed\n",
    "\n",
    "**`d`**: mandatory keyword argument\n",
    "\n",
    "**`e`**: optional keyword argument, defaults to **`True`**"
   ]
  }
 ],
 "metadata": {
  "kernelspec": {
   "display_name": "Python 3 (ipykernel)",
   "language": "python",
   "name": "python3"
  },
  "language_info": {
   "codemirror_mode": {
    "name": "ipython",
    "version": 3
   },
   "file_extension": ".py",
   "mimetype": "text/x-python",
   "name": "python",
   "nbconvert_exporter": "python",
   "pygments_lexer": "ipython3",
   "version": "3.11.4"
  }
 },
 "nbformat": 4,
 "nbformat_minor": 5
}
