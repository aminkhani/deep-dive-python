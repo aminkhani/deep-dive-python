{
 "cells": [
  {
   "cell_type": "markdown",
   "id": "023a09c8",
   "metadata": {},
   "source": [
    "# Default Values - Beware!!!"
   ]
  },
  {
   "cell_type": "markdown",
   "id": "631cd232",
   "metadata": {},
   "source": [
    "What happens at run-time...\n",
    "\n",
    "> When a module is **loaded**: all **code** is **executed** immediately.\n",
    "\n",
    "Module Code:\n",
    "\n",
    "```python\n",
    "a = 10\n",
    "```\n",
    "\n",
    "- The **integer** object **`10`** is created and **`a`** references it\n",
    "\n",
    "<hr>\n",
    "\n",
    "```python\n",
    "def my_func(a):\n",
    "    print(a)\n",
    "```\n",
    "\n",
    "- The **function** object is created, and **`my_func`** references it\n",
    "\n",
    "```python\n",
    "my_func(10)\n",
    "```\n",
    "\n",
    "- The function is **executed**"
   ]
  },
  {
   "cell_type": "markdown",
   "id": "fe862d24",
   "metadata": {},
   "source": [
    "## What about default values?"
   ]
  },
  {
   "cell_type": "markdown",
   "id": "4bda13c5",
   "metadata": {},
   "source": [
    "**Module Code:**\n",
    "\n",
    "```python\n",
    "def my_func(a=10):\n",
    "    print(a)\n",
    "```\n",
    "\n",
    "- The **function** object is created, and **`my_func`** references it\n",
    "\n",
    "- The **integer** object **`10`** is evaluated/created and is assigned as the default for **`a`**\n",
    "\n",
    "```python\n",
    "my_func()\n",
    "```\n",
    "\n",
    "- The function is **executed**\n",
    "\n",
    "- By the time this happens, the default value for **`a`** has **already** been evaluated and assigned - it is **not re-evaluated** when the function is called"
   ]
  },
  {
   "cell_type": "markdown",
   "id": "f933d2b4",
   "metadata": {},
   "source": [
    "## Consider this:\n",
    "\n",
    "We want to create a function that will write a log entry to the console with a user-specified event date/time. If the user does not supply a date/time, we want to set it the current date/time."
   ]
  },
  {
   "cell_type": "code",
   "execution_count": 1,
   "id": "2cd6fb9a",
   "metadata": {},
   "outputs": [],
   "source": [
    "from datetime import datetime"
   ]
  },
  {
   "cell_type": "code",
   "execution_count": 2,
   "id": "6c1dfbea",
   "metadata": {},
   "outputs": [],
   "source": [
    "def log(msg, *, dt=datetime.utcnow()):\n",
    "    print(f\"{dt}: {msg}\")"
   ]
  },
  {
   "cell_type": "code",
   "execution_count": 3,
   "id": "ce0811f7",
   "metadata": {
    "scrolled": true
   },
   "outputs": [
    {
     "name": "stdout",
     "output_type": "stream",
     "text": [
      "2023-09-18 06:01:23.535557: message 1\n"
     ]
    }
   ],
   "source": [
    "log(\"message 1\")"
   ]
  },
  {
   "cell_type": "markdown",
   "id": "011e4d08",
   "metadata": {},
   "source": [
    "a few minutes later:"
   ]
  },
  {
   "cell_type": "code",
   "execution_count": 4,
   "id": "6eb5a2cd",
   "metadata": {},
   "outputs": [
    {
     "name": "stdout",
     "output_type": "stream",
     "text": [
      "2023-09-18 06:01:23.535557: message 2\n"
     ]
    }
   ],
   "source": [
    "log(\"message 2\")"
   ]
  },
  {
   "cell_type": "markdown",
   "id": "1f0e4981",
   "metadata": {},
   "source": [
    "## Solution Pattern"
   ]
  },
  {
   "cell_type": "markdown",
   "id": "b8a45897",
   "metadata": {},
   "source": [
    "We set a default for **`dt`** to **`None`**. \n",
    "\n",
    "**Inside** the function, we **test** to see if **`dt`** is still **`None`**\n",
    "\n",
    "If **`dt`** is **`None`**, set it to the current date/time.\n",
    "\n",
    "Otherwise, use what the caller specified for **`dt`**."
   ]
  },
  {
   "cell_type": "code",
   "execution_count": 9,
   "id": "e6c2436f",
   "metadata": {},
   "outputs": [],
   "source": [
    "def log(msg, *, dt=None):\n",
    "    # if dt==None:\n",
    "        # dt = datetime.utcnow()\n",
    "    dt = dt or datetime.utcnow()    \n",
    "    print(f\"{dt}: {msg}\")"
   ]
  },
  {
   "cell_type": "code",
   "execution_count": 10,
   "id": "72d01655",
   "metadata": {},
   "outputs": [
    {
     "name": "stdout",
     "output_type": "stream",
     "text": [
      "2023-09-18 06:10:37.205494: message 1\n"
     ]
    }
   ],
   "source": [
    "log(\"message 1\")"
   ]
  },
  {
   "cell_type": "code",
   "execution_count": 12,
   "id": "46c70a4e",
   "metadata": {},
   "outputs": [
    {
     "name": "stdout",
     "output_type": "stream",
     "text": [
      "2023-09-18 06:10:41.677470: message 2\n"
     ]
    }
   ],
   "source": [
    "log(\"message 2\")"
   ]
  },
  {
   "cell_type": "markdown",
   "id": "55a60a8c",
   "metadata": {},
   "source": [
    "> In general, always beware of using a **mutable** object (or a **callable**) for an argument default."
   ]
  },
  {
   "cell_type": "markdown",
   "id": "8df37df7",
   "metadata": {},
   "source": [
    "### Practice"
   ]
  },
  {
   "cell_type": "code",
   "execution_count": 34,
   "id": "847ed7b3",
   "metadata": {},
   "outputs": [],
   "source": [
    "# Solution 1\n",
    "def factorial(n):\n",
    "    if n < 1:\n",
    "        return 1\n",
    "    else:\n",
    "        print(f\"calculating {n}!\")\n",
    "        return n * factorial(n-1)"
   ]
  },
  {
   "cell_type": "code",
   "execution_count": 15,
   "id": "19d2bd57",
   "metadata": {},
   "outputs": [
    {
     "name": "stdout",
     "output_type": "stream",
     "text": [
      "calculating 3!\n",
      "calculating 2!\n",
      "calculating 1!\n"
     ]
    },
    {
     "data": {
      "text/plain": [
       "6"
      ]
     },
     "execution_count": 15,
     "metadata": {},
     "output_type": "execute_result"
    }
   ],
   "source": [
    "factorial(3)"
   ]
  },
  {
   "cell_type": "code",
   "execution_count": 16,
   "id": "13086985",
   "metadata": {},
   "outputs": [
    {
     "name": "stdout",
     "output_type": "stream",
     "text": [
      "calculating 3!\n",
      "calculating 2!\n",
      "calculating 1!\n"
     ]
    },
    {
     "data": {
      "text/plain": [
       "6"
      ]
     },
     "execution_count": 16,
     "metadata": {},
     "output_type": "execute_result"
    }
   ],
   "source": [
    "factorial(3)"
   ]
  },
  {
   "cell_type": "code",
   "execution_count": 35,
   "id": "0f020588",
   "metadata": {},
   "outputs": [],
   "source": [
    "# Solution 2\n",
    "def factorial(n, *, cache):\n",
    "    if n < 1:\n",
    "        return 1\n",
    "    elif n in cache:\n",
    "            return cache[n]\n",
    "    else:\n",
    "        print(f\"calculating {n}!\")\n",
    "        result = n * factorial(n-1, cache=cache)\n",
    "        cache[n] = result\n",
    "        return result"
   ]
  },
  {
   "cell_type": "code",
   "execution_count": 24,
   "id": "d4f993fc",
   "metadata": {},
   "outputs": [],
   "source": [
    "cache = {}"
   ]
  },
  {
   "cell_type": "code",
   "execution_count": 25,
   "id": "92f62420",
   "metadata": {},
   "outputs": [
    {
     "name": "stdout",
     "output_type": "stream",
     "text": [
      "calculating 3!\n",
      "calculating 2!\n",
      "calculating 1!\n"
     ]
    },
    {
     "data": {
      "text/plain": [
       "6"
      ]
     },
     "execution_count": 25,
     "metadata": {},
     "output_type": "execute_result"
    }
   ],
   "source": [
    "factorial(3, cache=cache)"
   ]
  },
  {
   "cell_type": "code",
   "execution_count": 26,
   "id": "572eeacf",
   "metadata": {},
   "outputs": [
    {
     "data": {
      "text/plain": [
       "6"
      ]
     },
     "execution_count": 26,
     "metadata": {},
     "output_type": "execute_result"
    }
   ],
   "source": [
    "factorial(3, cache=cache)"
   ]
  },
  {
   "cell_type": "code",
   "execution_count": 27,
   "id": "32247d04",
   "metadata": {},
   "outputs": [
    {
     "data": {
      "text/plain": [
       "{1: 1, 2: 2, 3: 6}"
      ]
     },
     "execution_count": 27,
     "metadata": {},
     "output_type": "execute_result"
    }
   ],
   "source": [
    "cache"
   ]
  },
  {
   "cell_type": "code",
   "execution_count": 29,
   "id": "a3b50b00",
   "metadata": {},
   "outputs": [
    {
     "name": "stdout",
     "output_type": "stream",
     "text": [
      "calculating 4!\n"
     ]
    },
    {
     "data": {
      "text/plain": [
       "24"
      ]
     },
     "execution_count": 29,
     "metadata": {},
     "output_type": "execute_result"
    }
   ],
   "source": [
    "factorial(4, cache=cache)"
   ]
  },
  {
   "cell_type": "code",
   "execution_count": 45,
   "id": "e0ffc7ce",
   "metadata": {},
   "outputs": [],
   "source": [
    "# Solution 3\n",
    "def factorial(n, cache={}):\n",
    "    if n < 1:\n",
    "        return 1\n",
    "    elif n in cache:\n",
    "            return cache[n]\n",
    "    else:\n",
    "        print(f\"calculating {n}!\")\n",
    "        result = n * factorial(n-1)\n",
    "        cache[n] = result\n",
    "        return result"
   ]
  },
  {
   "cell_type": "code",
   "execution_count": 46,
   "id": "ebaa131f",
   "metadata": {},
   "outputs": [
    {
     "name": "stdout",
     "output_type": "stream",
     "text": [
      "calculating 3!\n",
      "calculating 2!\n",
      "calculating 1!\n"
     ]
    },
    {
     "data": {
      "text/plain": [
       "6"
      ]
     },
     "execution_count": 46,
     "metadata": {},
     "output_type": "execute_result"
    }
   ],
   "source": [
    "factorial(3)"
   ]
  },
  {
   "cell_type": "code",
   "execution_count": 47,
   "id": "b2f6c71c",
   "metadata": {},
   "outputs": [
    {
     "data": {
      "text/plain": [
       "6"
      ]
     },
     "execution_count": 47,
     "metadata": {},
     "output_type": "execute_result"
    }
   ],
   "source": [
    "factorial(3)"
   ]
  },
  {
   "cell_type": "code",
   "execution_count": 48,
   "id": "34196fc1",
   "metadata": {},
   "outputs": [
    {
     "name": "stdout",
     "output_type": "stream",
     "text": [
      "calculating 4!\n"
     ]
    },
    {
     "data": {
      "text/plain": [
       "24"
      ]
     },
     "execution_count": 48,
     "metadata": {},
     "output_type": "execute_result"
    }
   ],
   "source": [
    "factorial(4)"
   ]
  },
  {
   "cell_type": "code",
   "execution_count": null,
   "id": "b36feb5a",
   "metadata": {},
   "outputs": [],
   "source": []
  }
 ],
 "metadata": {
  "kernelspec": {
   "display_name": "Python 3 (ipykernel)",
   "language": "python",
   "name": "python3"
  },
  "language_info": {
   "codemirror_mode": {
    "name": "ipython",
    "version": 3
   },
   "file_extension": ".py",
   "mimetype": "text/x-python",
   "name": "python",
   "nbconvert_exporter": "python",
   "pygments_lexer": "ipython3",
   "version": "3.11.4"
  }
 },
 "nbformat": 4,
 "nbformat_minor": 5
}
