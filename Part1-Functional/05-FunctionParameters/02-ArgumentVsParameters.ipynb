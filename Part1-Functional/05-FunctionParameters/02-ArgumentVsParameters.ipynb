{
 "cells": [
  {
   "cell_type": "markdown",
   "id": "8c370843",
   "metadata": {},
   "source": [
    "# Argument vs Parameter"
   ]
  },
  {
   "cell_type": "code",
   "execution_count": 2,
   "id": "2fc47ac2",
   "metadata": {},
   "outputs": [],
   "source": [
    "def my_func(a, b):\n",
    "    # code hare\n",
    "    pass"
   ]
  },
  {
   "cell_type": "markdown",
   "id": "bfff52b7",
   "metadata": {},
   "source": [
    "In this context, `a` and `b` are called **parameters** of `my_func`.\n",
    "\n",
    "Also note that `a` and `b`are **variables**, local to `my_func`. ***(Function Scope)***\n",
    "\n",
    "When we call the function:"
   ]
  },
  {
   "cell_type": "code",
   "execution_count": 3,
   "id": "12b9aa97",
   "metadata": {},
   "outputs": [],
   "source": [
    "x = 10\n",
    "y = \"a\"\n",
    "\n",
    "my_func(x, y)"
   ]
  },
  {
   "cell_type": "markdown",
   "id": "0f0e58a6",
   "metadata": {},
   "source": [
    "`x` and `y` are called the **arguments** of `my_func`. ***(Module Scope)***\n",
    "\n",
    "Also note that `x` and `y` are passed by **reference**.\n",
    "\n",
    "i.e. the **memory addresses** of `x` and `y` are passed."
   ]
  },
  {
   "cell_type": "markdown",
   "id": "8ea55b98",
   "metadata": {},
   "source": [
    "<img src=\"./Images/scope.png\">"
   ]
  },
  {
   "cell_type": "markdown",
   "id": "6b1465e7",
   "metadata": {},
   "source": [
    "> It's OK if you mix up these terms - everyone will underestand what you mean!"
   ]
  }
 ],
 "metadata": {
  "kernelspec": {
   "display_name": "Python 3 (ipykernel)",
   "language": "python",
   "name": "python3"
  },
  "language_info": {
   "codemirror_mode": {
    "name": "ipython",
    "version": 3
   },
   "file_extension": ".py",
   "mimetype": "text/x-python",
   "name": "python",
   "nbconvert_exporter": "python",
   "pygments_lexer": "ipython3",
   "version": "3.11.4"
  }
 },
 "nbformat": 4,
 "nbformat_minor": 5
}
