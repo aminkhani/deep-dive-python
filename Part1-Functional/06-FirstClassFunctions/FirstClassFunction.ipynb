{
 "cells": [
  {
   "cell_type": "markdown",
   "id": "558437d8-eb99-4899-954f-c75800f6b321",
   "metadata": {},
   "source": [
    "# Topics in this section\n",
    "\n",
    "- #### [Function annotations and documentation]()\n",
    "- #### [Lambda expressions and anonymous functions]()\n",
    "- #### [Callables]()\n",
    "- #### [Function Introspection]()\n",
    "- #### [Built-in higher order functions (such as `stored`, `map`, `filter`)]()\n",
    "- #### [Some functions in `functools` module (such as `reduce`, `all`, `any`)]()\n",
    "- #### [Partials]()"
   ]
  },
  {
   "cell_type": "markdown",
   "id": "8d912548-d1ea-4420-bffe-0ca50eb5b8d5",
   "metadata": {},
   "source": [
    "## Fisrt-Class Functions"
   ]
  },
  {
   "cell_type": "markdown",
   "id": "add6fe4a-89c1-4c32-ae93-89401c1c69bf",
   "metadata": {},
   "source": [
    "### First-Class Objects"
   ]
  },
  {
   "cell_type": "markdown",
   "id": "f29a9a7b-56d3-45c8-8187-367e4b3f5774",
   "metadata": {},
   "source": [
    "What is **first-class objects** mean?\n",
    "- Can be passed to a function as an argument\n",
    "- Can be retured from a function\n",
    "- Can be assigned to a variable\n",
    "- Can be stored in a data structure (such as **`list`**, **`tuple`**, **`dictionary`**, etc.)\n",
    "\n",
    "Types such as **`int`**, **`float`**, **`str`**, **`tuple`**, **`list`** and many more are **first-class objects.\n",
    "\n",
    "**Functions** are also **first-class objects**"
   ]
  },
  {
   "cell_type": "markdown",
   "id": "9c97d20e-6717-4c2f-b546-a1475d7f95fc",
   "metadata": {},
   "source": [
    "### Higher-Order Functions"
   ]
  },
  {
   "cell_type": "markdown",
   "id": "ecd41125-3509-4281-b1fb-97395fbce7f0",
   "metadata": {},
   "source": [
    "**Higher-order functions** are functions that:\n",
    "- Take a functions as an **argument**\n",
    "- **Return** a function (**decorators**)"
   ]
  },
  {
   "cell_type": "markdown",
   "id": "06cf2307-abe3-495f-8ade-79d5358b2048",
   "metadata": {},
   "source": [
    "# Docstrings and Annotations"
   ]
  },
  {
   "cell_type": "markdown",
   "id": "4715285e-818f-4f93-b4f7-09060214ce66",
   "metadata": {},
   "source": [
    "## Docstrings\n",
    "\n",
    "we have seen the **`help(x)`** fucntion before $\\longrightarrow$ returns some documentation (if available) for **`x`**"
   ]
  },
  {
   "cell_type": "code",
   "execution_count": 1,
   "id": "d41e2aac-faf6-4246-badf-c0b7c7d4bf2c",
   "metadata": {
    "collapsed": true,
    "execution": {
     "iopub.execute_input": "2023-11-05T04:39:43.152735Z",
     "iopub.status.busy": "2023-11-05T04:39:43.152497Z",
     "iopub.status.idle": "2023-11-05T04:39:43.170591Z",
     "shell.execute_reply": "2023-11-05T04:39:43.169841Z",
     "shell.execute_reply.started": "2023-11-05T04:39:43.152715Z"
    },
    "jupyter": {
     "outputs_hidden": true
    },
    "tags": []
   },
   "outputs": [
    {
     "name": "stdout",
     "output_type": "stream",
     "text": [
      "Help on class int in module builtins:\n",
      "\n",
      "class int(object)\n",
      " |  int([x]) -> integer\n",
      " |  int(x, base=10) -> integer\n",
      " |  \n",
      " |  Convert a number or string to an integer, or return 0 if no arguments\n",
      " |  are given.  If x is a number, return x.__int__().  For floating point\n",
      " |  numbers, this truncates towards zero.\n",
      " |  \n",
      " |  If x is not a number or if base is given, then x must be a string,\n",
      " |  bytes, or bytearray instance representing an integer literal in the\n",
      " |  given base.  The literal can be preceded by '+' or '-' and be surrounded\n",
      " |  by whitespace.  The base defaults to 10.  Valid bases are 0 and 2-36.\n",
      " |  Base 0 means to interpret the base from the string as an integer literal.\n",
      " |  >>> int('0b100', base=0)\n",
      " |  4\n",
      " |  \n",
      " |  Built-in subclasses:\n",
      " |      bool\n",
      " |  \n",
      " |  Methods defined here:\n",
      " |  \n",
      " |  __abs__(self, /)\n",
      " |      abs(self)\n",
      " |  \n",
      " |  __add__(self, value, /)\n",
      " |      Return self+value.\n",
      " |  \n",
      " |  __and__(self, value, /)\n",
      " |      Return self&value.\n",
      " |  \n",
      " |  __bool__(self, /)\n",
      " |      True if self else False\n",
      " |  \n",
      " |  __ceil__(...)\n",
      " |      Ceiling of an Integral returns itself.\n",
      " |  \n",
      " |  __divmod__(self, value, /)\n",
      " |      Return divmod(self, value).\n",
      " |  \n",
      " |  __eq__(self, value, /)\n",
      " |      Return self==value.\n",
      " |  \n",
      " |  __float__(self, /)\n",
      " |      float(self)\n",
      " |  \n",
      " |  __floor__(...)\n",
      " |      Flooring an Integral returns itself.\n",
      " |  \n",
      " |  __floordiv__(self, value, /)\n",
      " |      Return self//value.\n",
      " |  \n",
      " |  __format__(self, format_spec, /)\n",
      " |      Default object formatter.\n",
      " |  \n",
      " |  __ge__(self, value, /)\n",
      " |      Return self>=value.\n",
      " |  \n",
      " |  __getattribute__(self, name, /)\n",
      " |      Return getattr(self, name).\n",
      " |  \n",
      " |  __getnewargs__(self, /)\n",
      " |  \n",
      " |  __gt__(self, value, /)\n",
      " |      Return self>value.\n",
      " |  \n",
      " |  __hash__(self, /)\n",
      " |      Return hash(self).\n",
      " |  \n",
      " |  __index__(self, /)\n",
      " |      Return self converted to an integer, if self is suitable for use as an index into a list.\n",
      " |  \n",
      " |  __int__(self, /)\n",
      " |      int(self)\n",
      " |  \n",
      " |  __invert__(self, /)\n",
      " |      ~self\n",
      " |  \n",
      " |  __le__(self, value, /)\n",
      " |      Return self<=value.\n",
      " |  \n",
      " |  __lshift__(self, value, /)\n",
      " |      Return self<<value.\n",
      " |  \n",
      " |  __lt__(self, value, /)\n",
      " |      Return self<value.\n",
      " |  \n",
      " |  __mod__(self, value, /)\n",
      " |      Return self%value.\n",
      " |  \n",
      " |  __mul__(self, value, /)\n",
      " |      Return self*value.\n",
      " |  \n",
      " |  __ne__(self, value, /)\n",
      " |      Return self!=value.\n",
      " |  \n",
      " |  __neg__(self, /)\n",
      " |      -self\n",
      " |  \n",
      " |  __or__(self, value, /)\n",
      " |      Return self|value.\n",
      " |  \n",
      " |  __pos__(self, /)\n",
      " |      +self\n",
      " |  \n",
      " |  __pow__(self, value, mod=None, /)\n",
      " |      Return pow(self, value, mod).\n",
      " |  \n",
      " |  __radd__(self, value, /)\n",
      " |      Return value+self.\n",
      " |  \n",
      " |  __rand__(self, value, /)\n",
      " |      Return value&self.\n",
      " |  \n",
      " |  __rdivmod__(self, value, /)\n",
      " |      Return divmod(value, self).\n",
      " |  \n",
      " |  __repr__(self, /)\n",
      " |      Return repr(self).\n",
      " |  \n",
      " |  __rfloordiv__(self, value, /)\n",
      " |      Return value//self.\n",
      " |  \n",
      " |  __rlshift__(self, value, /)\n",
      " |      Return value<<self.\n",
      " |  \n",
      " |  __rmod__(self, value, /)\n",
      " |      Return value%self.\n",
      " |  \n",
      " |  __rmul__(self, value, /)\n",
      " |      Return value*self.\n",
      " |  \n",
      " |  __ror__(self, value, /)\n",
      " |      Return value|self.\n",
      " |  \n",
      " |  __round__(...)\n",
      " |      Rounding an Integral returns itself.\n",
      " |      \n",
      " |      Rounding with an ndigits argument also returns an integer.\n",
      " |  \n",
      " |  __rpow__(self, value, mod=None, /)\n",
      " |      Return pow(value, self, mod).\n",
      " |  \n",
      " |  __rrshift__(self, value, /)\n",
      " |      Return value>>self.\n",
      " |  \n",
      " |  __rshift__(self, value, /)\n",
      " |      Return self>>value.\n",
      " |  \n",
      " |  __rsub__(self, value, /)\n",
      " |      Return value-self.\n",
      " |  \n",
      " |  __rtruediv__(self, value, /)\n",
      " |      Return value/self.\n",
      " |  \n",
      " |  __rxor__(self, value, /)\n",
      " |      Return value^self.\n",
      " |  \n",
      " |  __sizeof__(self, /)\n",
      " |      Returns size in memory, in bytes.\n",
      " |  \n",
      " |  __sub__(self, value, /)\n",
      " |      Return self-value.\n",
      " |  \n",
      " |  __truediv__(self, value, /)\n",
      " |      Return self/value.\n",
      " |  \n",
      " |  __trunc__(...)\n",
      " |      Truncating an Integral returns itself.\n",
      " |  \n",
      " |  __xor__(self, value, /)\n",
      " |      Return self^value.\n",
      " |  \n",
      " |  as_integer_ratio(self, /)\n",
      " |      Return integer ratio.\n",
      " |      \n",
      " |      Return a pair of integers, whose ratio is exactly equal to the original int\n",
      " |      and with a positive denominator.\n",
      " |      \n",
      " |      >>> (10).as_integer_ratio()\n",
      " |      (10, 1)\n",
      " |      >>> (-10).as_integer_ratio()\n",
      " |      (-10, 1)\n",
      " |      >>> (0).as_integer_ratio()\n",
      " |      (0, 1)\n",
      " |  \n",
      " |  bit_count(self, /)\n",
      " |      Number of ones in the binary representation of the absolute value of self.\n",
      " |      \n",
      " |      Also known as the population count.\n",
      " |      \n",
      " |      >>> bin(13)\n",
      " |      '0b1101'\n",
      " |      >>> (13).bit_count()\n",
      " |      3\n",
      " |  \n",
      " |  bit_length(self, /)\n",
      " |      Number of bits necessary to represent self in binary.\n",
      " |      \n",
      " |      >>> bin(37)\n",
      " |      '0b100101'\n",
      " |      >>> (37).bit_length()\n",
      " |      6\n",
      " |  \n",
      " |  conjugate(...)\n",
      " |      Returns self, the complex conjugate of any int.\n",
      " |  \n",
      " |  to_bytes(self, /, length=1, byteorder='big', *, signed=False)\n",
      " |      Return an array of bytes representing an integer.\n",
      " |      \n",
      " |      length\n",
      " |        Length of bytes object to use.  An OverflowError is raised if the\n",
      " |        integer is not representable with the given number of bytes.  Default\n",
      " |        is length 1.\n",
      " |      byteorder\n",
      " |        The byte order used to represent the integer.  If byteorder is 'big',\n",
      " |        the most significant byte is at the beginning of the byte array.  If\n",
      " |        byteorder is 'little', the most significant byte is at the end of the\n",
      " |        byte array.  To request the native byte order of the host system, use\n",
      " |        `sys.byteorder' as the byte order value.  Default is to use 'big'.\n",
      " |      signed\n",
      " |        Determines whether two's complement is used to represent the integer.\n",
      " |        If signed is False and a negative integer is given, an OverflowError\n",
      " |        is raised.\n",
      " |  \n",
      " |  ----------------------------------------------------------------------\n",
      " |  Class methods defined here:\n",
      " |  \n",
      " |  from_bytes(bytes, byteorder='big', *, signed=False) from builtins.type\n",
      " |      Return the integer represented by the given array of bytes.\n",
      " |      \n",
      " |      bytes\n",
      " |        Holds the array of bytes to convert.  The argument must either\n",
      " |        support the buffer protocol or be an iterable object producing bytes.\n",
      " |        Bytes and bytearray are examples of built-in objects that support the\n",
      " |        buffer protocol.\n",
      " |      byteorder\n",
      " |        The byte order used to represent the integer.  If byteorder is 'big',\n",
      " |        the most significant byte is at the beginning of the byte array.  If\n",
      " |        byteorder is 'little', the most significant byte is at the end of the\n",
      " |        byte array.  To request the native byte order of the host system, use\n",
      " |        `sys.byteorder' as the byte order value.  Default is to use 'big'.\n",
      " |      signed\n",
      " |        Indicates whether two's complement is used to represent the integer.\n",
      " |  \n",
      " |  ----------------------------------------------------------------------\n",
      " |  Static methods defined here:\n",
      " |  \n",
      " |  __new__(*args, **kwargs) from builtins.type\n",
      " |      Create and return a new object.  See help(type) for accurate signature.\n",
      " |  \n",
      " |  ----------------------------------------------------------------------\n",
      " |  Data descriptors defined here:\n",
      " |  \n",
      " |  denominator\n",
      " |      the denominator of a rational number in lowest terms\n",
      " |  \n",
      " |  imag\n",
      " |      the imaginary part of a complex number\n",
      " |  \n",
      " |  numerator\n",
      " |      the numerator of a rational number in lowest terms\n",
      " |  \n",
      " |  real\n",
      " |      the real part of a complex number\n",
      "\n"
     ]
    }
   ],
   "source": [
    "help(int)"
   ]
  },
  {
   "cell_type": "markdown",
   "id": "71f6365b-6000-4710-872f-a71304b6bdb3",
   "metadata": {
    "tags": []
   },
   "source": [
    "We can **document** our functions (modules, classes, etc.) to achive the same result using **docstring** $\\longrightarrow$ [**PEP 257**]()\n",
    "\n",
    "If the **first line** in the function body is a string (not an assignment, not a comment, just a string by itself), it will interpreted as a **docstring**"
   ]
  },
  {
   "cell_type": "code",
   "execution_count": 3,
   "id": "c88ff04c-d980-4038-8663-fcee5022f7a7",
   "metadata": {
    "execution": {
     "iopub.execute_input": "2023-11-05T04:47:19.081052Z",
     "iopub.status.busy": "2023-11-05T04:47:19.080467Z",
     "iopub.status.idle": "2023-11-05T04:47:19.084072Z",
     "shell.execute_reply": "2023-11-05T04:47:19.083382Z",
     "shell.execute_reply.started": "2023-11-05T04:47:19.081028Z"
    },
    "tags": []
   },
   "outputs": [],
   "source": [
    "def my_func(a):\n",
    "    \"documentation for my_func\"\n",
    "    return a"
   ]
  },
  {
   "cell_type": "code",
   "execution_count": 4,
   "id": "df9badb3-355a-47e3-ac28-2d413068843a",
   "metadata": {
    "execution": {
     "iopub.execute_input": "2023-11-05T04:47:34.078952Z",
     "iopub.status.busy": "2023-11-05T04:47:34.078476Z",
     "iopub.status.idle": "2023-11-05T04:47:34.082522Z",
     "shell.execute_reply": "2023-11-05T04:47:34.081745Z",
     "shell.execute_reply.started": "2023-11-05T04:47:34.078902Z"
    },
    "tags": []
   },
   "outputs": [
    {
     "name": "stdout",
     "output_type": "stream",
     "text": [
      "Help on function my_func in module __main__:\n",
      "\n",
      "my_func(a)\n",
      "    documentation for my_func\n",
      "\n"
     ]
    }
   ],
   "source": [
    "help(my_func)"
   ]
  },
  {
   "cell_type": "markdown",
   "id": "14a01b4d-044a-4f9d-a384-672a4155c242",
   "metadata": {},
   "source": [
    "**Multi-line** docstrings:"
   ]
  },
  {
   "cell_type": "code",
   "execution_count": 7,
   "id": "4ecc9ac1-338e-440f-adc1-f40b7134c8ea",
   "metadata": {
    "execution": {
     "iopub.execute_input": "2023-11-05T04:49:51.136614Z",
     "iopub.status.busy": "2023-11-05T04:49:51.136380Z",
     "iopub.status.idle": "2023-11-05T04:49:51.140606Z",
     "shell.execute_reply": "2023-11-05T04:49:51.139677Z",
     "shell.execute_reply.started": "2023-11-05T04:49:51.136595Z"
    },
    "tags": []
   },
   "outputs": [],
   "source": [
    "def my_func(a):\n",
    "    \"\"\"documentation for my_func\n",
    "    \"\"\"\n",
    "    return a"
   ]
  },
  {
   "cell_type": "code",
   "execution_count": 8,
   "id": "69479b4e-96a4-457d-9a10-8482d2acdd54",
   "metadata": {
    "execution": {
     "iopub.execute_input": "2023-11-05T04:49:51.373439Z",
     "iopub.status.busy": "2023-11-05T04:49:51.372968Z",
     "iopub.status.idle": "2023-11-05T04:49:51.379842Z",
     "shell.execute_reply": "2023-11-05T04:49:51.378709Z",
     "shell.execute_reply.started": "2023-11-05T04:49:51.373394Z"
    },
    "tags": []
   },
   "outputs": [
    {
     "name": "stdout",
     "output_type": "stream",
     "text": [
      "Help on function my_func in module __main__:\n",
      "\n",
      "my_func(a)\n",
      "    documentation for my_func\n",
      "\n"
     ]
    }
   ],
   "source": [
    "help(my_func)"
   ]
  },
  {
   "cell_type": "markdown",
   "id": "b12ddd86-965f-4959-a092-36bf1d342746",
   "metadata": {},
   "source": [
    "### Where are docstrings stored?"
   ]
  },
  {
   "cell_type": "markdown",
   "id": "8f37657d-18f4-4e71-9d25-9961680fc8e4",
   "metadata": {},
   "source": [
    "In the function's **`__doc__`** property"
   ]
  },
  {
   "cell_type": "code",
   "execution_count": 9,
   "id": "f0779cb4-2011-4420-a813-c1a0c83f98e6",
   "metadata": {
    "execution": {
     "iopub.execute_input": "2023-11-05T04:53:13.457231Z",
     "iopub.status.busy": "2023-11-05T04:53:13.456897Z",
     "iopub.status.idle": "2023-11-05T04:53:13.460672Z",
     "shell.execute_reply": "2023-11-05T04:53:13.460156Z",
     "shell.execute_reply.started": "2023-11-05T04:53:13.457203Z"
    },
    "tags": []
   },
   "outputs": [],
   "source": [
    "def fact(n):\n",
    "    \"\"\"Calculate n! (factorial function)\n",
    "    \n",
    "    Inputs:\n",
    "        n: non-negative inteager\n",
    "    Returns:\n",
    "        the factorail of n\n",
    "    \"\"\"\n",
    "    ..."
   ]
  },
  {
   "cell_type": "code",
   "execution_count": 11,
   "id": "e1f557f9-da8a-435a-b957-03fc8aae9ccb",
   "metadata": {
    "execution": {
     "iopub.execute_input": "2023-11-05T04:53:32.210012Z",
     "iopub.status.busy": "2023-11-05T04:53:32.209581Z",
     "iopub.status.idle": "2023-11-05T04:53:32.215587Z",
     "shell.execute_reply": "2023-11-05T04:53:32.214551Z",
     "shell.execute_reply.started": "2023-11-05T04:53:32.209965Z"
    },
    "tags": []
   },
   "outputs": [
    {
     "name": "stdout",
     "output_type": "stream",
     "text": [
      "Help on function fact in module __main__:\n",
      "\n",
      "fact(n)\n",
      "    Calculate n! (factorial function)\n",
      "    \n",
      "    Inputs:\n",
      "        n: non-negative inteager\n",
      "    Returns:\n",
      "        the factorail of n\n",
      "\n"
     ]
    }
   ],
   "source": [
    "help(fact)"
   ]
  },
  {
   "cell_type": "code",
   "execution_count": 13,
   "id": "a0b3829a-f65d-4ff6-8669-bb428d72c9ef",
   "metadata": {
    "execution": {
     "iopub.execute_input": "2023-11-05T04:54:32.359245Z",
     "iopub.status.busy": "2023-11-05T04:54:32.359005Z",
     "iopub.status.idle": "2023-11-05T04:54:32.362683Z",
     "shell.execute_reply": "2023-11-05T04:54:32.362092Z",
     "shell.execute_reply.started": "2023-11-05T04:54:32.359227Z"
    },
    "tags": []
   },
   "outputs": [
    {
     "name": "stdout",
     "output_type": "stream",
     "text": [
      "Calculate n! (factorial function)\n",
      "    \n",
      "    Inputs:\n",
      "        n: non-negative inteager\n",
      "    Returns:\n",
      "        the factorail of n\n",
      "    \n"
     ]
    }
   ],
   "source": [
    "print(fact.__doc__)"
   ]
  },
  {
   "cell_type": "markdown",
   "id": "53c693cc-bc36-45fe-8a80-cc262e2de4a4",
   "metadata": {},
   "source": [
    "## Function Annotations"
   ]
  },
  {
   "cell_type": "markdown",
   "id": "303c9768-c737-477b-8d44-e3e6f7dd050f",
   "metadata": {},
   "source": [
    "Function annotations give us an additional way to document our functions $\\longrightarrow$ [**PEP 3107**]() "
   ]
  },
  {
   "cell_type": "markdown",
   "id": "98e73db7-f81f-404d-9167-41990aa230e4",
   "metadata": {
    "execution": {
     "iopub.execute_input": "2023-11-05T05:04:54.512513Z",
     "iopub.status.busy": "2023-11-05T05:04:54.512235Z",
     "iopub.status.idle": "2023-11-05T05:04:54.522310Z",
     "shell.execute_reply": "2023-11-05T05:04:54.519554Z",
     "shell.execute_reply.started": "2023-11-05T05:04:54.512489Z"
    },
    "tags": []
   },
   "source": [
    "```python\n",
    "def my_funct(a: <expression>, b: <expression>) -> <expression>:\n",
    "    pass\n",
    "```"
   ]
  },
  {
   "cell_type": "markdown",
   "id": "15deeee1-7506-4fce-b6c6-0a7d92940586",
   "metadata": {},
   "source": [
    "### Where are annotations stored?\n",
    "\n",
    "In the **`__annotations__`** property of the function $\\longrightarrow$ return **`dict`**: \n",
    "\n",
    "- **`keys`** are parameter names\n",
    "    - For a **`return`** annotation, the key is **return**\n",
    "- **`values`** are the annotations"
   ]
  },
  {
   "cell_type": "code",
   "execution_count": 21,
   "id": "dac3c3a3-d025-44e3-bd5b-fe8730105d51",
   "metadata": {
    "execution": {
     "iopub.execute_input": "2023-11-05T05:07:47.642462Z",
     "iopub.status.busy": "2023-11-05T05:07:47.641625Z",
     "iopub.status.idle": "2023-11-05T05:07:47.648247Z",
     "shell.execute_reply": "2023-11-05T05:07:47.646871Z",
     "shell.execute_reply.started": "2023-11-05T05:07:47.642407Z"
    },
    "tags": []
   },
   "outputs": [],
   "source": [
    "def my_func(a: \"a string\", b: \"a positive inteager\") -> \"a string\":\n",
    "    ..."
   ]
  },
  {
   "cell_type": "code",
   "execution_count": 22,
   "id": "088d2f9d-d259-43dc-b74a-5277a7593d3a",
   "metadata": {
    "execution": {
     "iopub.execute_input": "2023-11-05T05:07:53.190372Z",
     "iopub.status.busy": "2023-11-05T05:07:53.189840Z",
     "iopub.status.idle": "2023-11-05T05:07:53.197927Z",
     "shell.execute_reply": "2023-11-05T05:07:53.196223Z",
     "shell.execute_reply.started": "2023-11-05T05:07:53.190323Z"
    },
    "tags": []
   },
   "outputs": [
    {
     "name": "stdout",
     "output_type": "stream",
     "text": [
      "Help on function my_func in module __main__:\n",
      "\n",
      "my_func(a: 'a string', b: 'a positive inteager') -> 'a string'\n",
      "\n"
     ]
    }
   ],
   "source": [
    "help(my_func)"
   ]
  },
  {
   "cell_type": "code",
   "execution_count": 24,
   "id": "4027665c-2453-441d-9efd-fbf225e8a9cd",
   "metadata": {
    "execution": {
     "iopub.execute_input": "2023-11-05T05:08:25.404808Z",
     "iopub.status.busy": "2023-11-05T05:08:25.404141Z",
     "iopub.status.idle": "2023-11-05T05:08:25.408933Z",
     "shell.execute_reply": "2023-11-05T05:08:25.408190Z",
     "shell.execute_reply.started": "2023-11-05T05:08:25.404744Z"
    },
    "tags": []
   },
   "outputs": [
    {
     "name": "stdout",
     "output_type": "stream",
     "text": [
      "None\n"
     ]
    }
   ],
   "source": [
    "print(my_func.__doc__)"
   ]
  },
  {
   "cell_type": "code",
   "execution_count": 30,
   "id": "c6589c3a-b534-462c-8a01-012bec3ac083",
   "metadata": {
    "execution": {
     "iopub.execute_input": "2023-11-05T05:10:17.224233Z",
     "iopub.status.busy": "2023-11-05T05:10:17.224010Z",
     "iopub.status.idle": "2023-11-05T05:10:17.228189Z",
     "shell.execute_reply": "2023-11-05T05:10:17.227717Z",
     "shell.execute_reply.started": "2023-11-05T05:10:17.224216Z"
    },
    "tags": []
   },
   "outputs": [
    {
     "data": {
      "text/plain": [
       "{'a': 'a string', 'b': 'a positive inteager', 'return': 'a string'}"
      ]
     },
     "execution_count": 30,
     "metadata": {},
     "output_type": "execute_result"
    }
   ],
   "source": [
    "my_func.__annotations__"
   ]
  },
  {
   "cell_type": "markdown",
   "id": "54094f0e-88a4-4854-81de-b6b30e8e501a",
   "metadata": {},
   "source": [
    "Annotations can be any expression"
   ]
  },
  {
   "cell_type": "code",
   "execution_count": 25,
   "id": "b5ed6012-7711-4ff1-8982-4575f09a3a30",
   "metadata": {
    "execution": {
     "iopub.execute_input": "2023-11-05T05:09:45.407889Z",
     "iopub.status.busy": "2023-11-05T05:09:45.407544Z",
     "iopub.status.idle": "2023-11-05T05:09:45.412890Z",
     "shell.execute_reply": "2023-11-05T05:09:45.411295Z",
     "shell.execute_reply.started": "2023-11-05T05:09:45.407863Z"
    },
    "tags": []
   },
   "outputs": [],
   "source": [
    "def sum(a: [int, float], b: [int, float]) -> [int, float]:\n",
    "    \"\"\"Sumation of two number\n",
    "    \n",
    "    Inputs:\n",
    "        a: int or float\n",
    "        b: int or float\n",
    "    Return:\n",
    "        a + b: int or float\n",
    "    \"\"\"\n",
    "    return a + b"
   ]
  },
  {
   "cell_type": "code",
   "execution_count": 28,
   "id": "33c180ea-836c-4143-8290-71451c62ba53",
   "metadata": {
    "execution": {
     "iopub.execute_input": "2023-11-05T05:10:00.685697Z",
     "iopub.status.busy": "2023-11-05T05:10:00.685058Z",
     "iopub.status.idle": "2023-11-05T05:10:00.692196Z",
     "shell.execute_reply": "2023-11-05T05:10:00.690390Z",
     "shell.execute_reply.started": "2023-11-05T05:10:00.685662Z"
    },
    "tags": []
   },
   "outputs": [
    {
     "name": "stdout",
     "output_type": "stream",
     "text": [
      "Sumation of two number\n",
      "    \n",
      "    Inputs:\n",
      "        a: int or float\n",
      "        b: int or float\n",
      "    Return:\n",
      "        a + b: int or float\n",
      "    \n"
     ]
    }
   ],
   "source": [
    "print(sum.__doc__)"
   ]
  },
  {
   "cell_type": "code",
   "execution_count": 32,
   "id": "2c36e80d-1d00-4dc6-9f25-5a15a5af7480",
   "metadata": {
    "execution": {
     "iopub.execute_input": "2023-11-05T05:10:50.578491Z",
     "iopub.status.busy": "2023-11-05T05:10:50.578237Z",
     "iopub.status.idle": "2023-11-05T05:10:50.583153Z",
     "shell.execute_reply": "2023-11-05T05:10:50.582471Z",
     "shell.execute_reply.started": "2023-11-05T05:10:50.578468Z"
    },
    "tags": []
   },
   "outputs": [
    {
     "data": {
      "text/plain": [
       "{'a': [int, float], 'b': [int, float], 'return': [int, float]}"
      ]
     },
     "execution_count": 32,
     "metadata": {},
     "output_type": "execute_result"
    }
   ],
   "source": [
    "sum.__annotations__"
   ]
  },
  {
   "cell_type": "code",
   "execution_count": 26,
   "id": "780db494-0846-46f0-a315-88ab47fb1ee2",
   "metadata": {
    "execution": {
     "iopub.execute_input": "2023-11-05T05:09:45.933891Z",
     "iopub.status.busy": "2023-11-05T05:09:45.933515Z",
     "iopub.status.idle": "2023-11-05T05:09:45.942775Z",
     "shell.execute_reply": "2023-11-05T05:09:45.941556Z",
     "shell.execute_reply.started": "2023-11-05T05:09:45.933866Z"
    },
    "tags": []
   },
   "outputs": [
    {
     "name": "stdout",
     "output_type": "stream",
     "text": [
      "Help on function sum in module __main__:\n",
      "\n",
      "sum(a: [<class 'int'>, <class 'float'>], b: [<class 'int'>, <class 'float'>]) -> [<class 'int'>, <class 'float'>]\n",
      "    Sumation of two number\n",
      "    \n",
      "    Inputs:\n",
      "        a: int or float\n",
      "        b: int or float\n",
      "    Return:\n",
      "        a + b: int or float\n",
      "\n"
     ]
    }
   ],
   "source": [
    "help(sum)"
   ]
  },
  {
   "cell_type": "markdown",
   "id": "8d2bcc71-e710-4a71-bb1d-535697b794bd",
   "metadata": {},
   "source": [
    "### Where does Python use docstrings and annotations?\n",
    "\n",
    "It doesn't really!\n",
    "\n",
    "Mainlu used by external tools and modules\n",
    "- Example: apps that generate documentation from your code ([**Sphinx**]())\n",
    "\n",
    "Docstrings and annotaions are entirely **optional**, and do not 'force' anything in our Python code\n",
    "\n",
    "We'll look at an enhanced version of annotations in an upcoming section on [**type hints**]()"
   ]
  }
 ],
 "metadata": {
  "kernelspec": {
   "display_name": "Python 3 (ipykernel)",
   "language": "python",
   "name": "python3"
  },
  "language_info": {
   "codemirror_mode": {
    "name": "ipython",
    "version": 3
   },
   "file_extension": ".py",
   "mimetype": "text/x-python",
   "name": "python",
   "nbconvert_exporter": "python",
   "pygments_lexer": "ipython3",
   "version": "3.11.4"
  },
  "toc-autonumbering": false,
  "toc-showcode": false,
  "toc-showmarkdowntxt": false,
  "widgets": {
   "application/vnd.jupyter.widget-state+json": {
    "state": {},
    "version_major": 2,
    "version_minor": 0
   }
  }
 },
 "nbformat": 4,
 "nbformat_minor": 5
}
